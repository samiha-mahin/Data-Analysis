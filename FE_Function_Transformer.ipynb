{
  "nbformat": 4,
  "nbformat_minor": 0,
  "metadata": {
    "colab": {
      "provenance": [],
      "authorship_tag": "ABX9TyOupRG+Or9GNcb41iBFQN2Q",
      "include_colab_link": true
    },
    "kernelspec": {
      "name": "python3",
      "display_name": "Python 3"
    },
    "language_info": {
      "name": "python"
    }
  },
  "cells": [
    {
      "cell_type": "markdown",
      "metadata": {
        "id": "view-in-github",
        "colab_type": "text"
      },
      "source": [
        "<a href=\"https://colab.research.google.com/github/samiha-mahin/Data-Analysis/blob/main/FE_Function_Transformer.ipynb\" target=\"_parent\"><img src=\"https://colab.research.google.com/assets/colab-badge.svg\" alt=\"Open In Colab\"/></a>"
      ]
    },
    {
      "cell_type": "markdown",
      "source": [
        "\n",
        "### 1. **Log Transform**\n",
        "\n",
        "* **What it does:** Converts large values into smaller ones by taking the logarithm.\n",
        "* **Why we use it:** To reduce **right skewness** (when the data has a long tail on the right).\n",
        "* **Example:**\n",
        "\n",
        "  ```\n",
        "  Original:   [1, 10, 100, 1000]\n",
        "  Log:        [0, 1,   2,    3]\n",
        "  ```\n",
        "\n",
        "---\n",
        "\n",
        "### 2. **Reciprocal Transform**\n",
        "\n",
        "* **What it does:** Takes the reciprocal of each value (1/value).\n",
        "* **Why we use it:** Helps with **very highly skewed** data, especially when extreme values are much higher than others.\n",
        "* **Example:**\n",
        "\n",
        "  ```\n",
        "  Original:     [1, 2, 4, 8]\n",
        "  Reciprocal:   [1.0, 0.5, 0.25, 0.125]\n",
        "  ```\n",
        "\n",
        "---\n",
        "\n",
        "### 3. **Square Root Transform**\n",
        "\n",
        "* **What it does:** Takes the square root of each value.\n",
        "* **Why we use it:** Useful to reduce **moderate skewness**, but less aggressive than log or reciprocal.\n",
        "* **Example:**\n",
        "\n",
        "  ```\n",
        "  Original:      [1, 4, 9, 16]\n",
        "  Square Root:   [1, 2, 3, 4]\n",
        "  ```\n",
        "\n",
        "---\n",
        "\n",
        "### 💡 When to Use What?\n",
        "\n",
        "| Transform       | Use When...                             |\n",
        "| --------------- | --------------------------------------- |\n",
        "| **Log**         | Data is right-skewed with big values    |\n",
        "| **Reciprocal**  | Data is highly skewed with big outliers |\n",
        "| **Square Root** | Skewed data, but not extremely          |\n"
      ],
      "metadata": {
        "id": "6MeESAaGM6I5"
      }
    },
    {
      "cell_type": "code",
      "source": [],
      "metadata": {
        "id": "nkPKwUvINEIB"
      },
      "execution_count": null,
      "outputs": []
    }
  ]
}