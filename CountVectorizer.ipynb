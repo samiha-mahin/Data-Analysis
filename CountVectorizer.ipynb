{
  "nbformat": 4,
  "nbformat_minor": 0,
  "metadata": {
    "colab": {
      "provenance": [],
      "authorship_tag": "ABX9TyOFpzPmM+tNx4EbIySlcAn5",
      "include_colab_link": true
    },
    "kernelspec": {
      "name": "python3",
      "display_name": "Python 3"
    },
    "language_info": {
      "name": "python"
    }
  },
  "cells": [
    {
      "cell_type": "markdown",
      "metadata": {
        "id": "view-in-github",
        "colab_type": "text"
      },
      "source": [
        "<a href=\"https://colab.research.google.com/github/samiha-mahin/Data-Analysis/blob/main/CountVectorizer.ipynb\" target=\"_parent\"><img src=\"https://colab.research.google.com/assets/colab-badge.svg\" alt=\"Open In Colab\"/></a>"
      ]
    },
    {
      "cell_type": "markdown",
      "source": [
        "\n",
        "\n",
        "### 🧠 What is `CountVectorizer`?\n",
        "\n",
        "`CountVectorizer` turns **text into numbers** by **counting the number of times each word appears** in a sentence or document.\n",
        "\n",
        "---\n",
        "\n",
        "### 🧾 Example:\n",
        "\n",
        "Let’s say you have these 3 sentences:\n",
        "\n",
        "```python\n",
        "texts = [\n",
        "    \"I love art\",\n",
        "    \"I love coding\",\n",
        "    \"Art is beautiful\"\n",
        "]\n",
        "```\n",
        "\n",
        "You want to **convert these texts into numbers** so a machine learning model can understand them.\n",
        "\n",
        "---\n",
        "\n",
        "### ✅ Code using `CountVectorizer`:\n",
        "\n",
        "```python\n",
        "from sklearn.feature_extraction.text import CountVectorizer\n",
        "\n",
        "cv = CountVectorizer()\n",
        "X = cv.fit_transform(texts)\n",
        "\n",
        "print(cv.get_feature_names_out())\n",
        "print(X.toarray())\n",
        "```\n",
        "\n",
        "---\n",
        "\n",
        "### 🧮 Output:\n",
        "\n",
        "```python\n",
        "['art' 'beautiful' 'coding' 'is' 'love' 'i']\n",
        "\n",
        "[[1 0 0 0 1 1]   # \"I love art\"\n",
        " [0 0 1 0 1 1]   # \"I love coding\"\n",
        " [1 1 0 1 0 0]]  # \"Art is beautiful\"\n",
        "```\n",
        "\n",
        "---\n",
        "\n",
        "### 💬 How to read this?\n",
        "\n",
        "Each row = 1 sentence\n",
        "\n",
        "Each column = 1 word from the entire vocabulary\n",
        "\n",
        "Each value = how many times that word appears in that sentence\n",
        "\n",
        "---\n",
        "\n",
        "### 🔁 Summary:\n",
        "\n",
        "* `CountVectorizer` converts text → number matrix\n",
        "* Each column = a word\n",
        "* Each row = a sentence\n",
        "* Each value = word count\n",
        "\n",
        "---\n",
        "\n"
      ],
      "metadata": {
        "id": "qTYzpkQM8NPj"
      }
    },
    {
      "cell_type": "code",
      "source": [
        "from sklearn.feature_extraction.text import CountVectorizer\n"
      ],
      "metadata": {
        "id": "FGQSwKXE8X6v"
      },
      "execution_count": 2,
      "outputs": []
    },
    {
      "cell_type": "code",
      "source": [
        "texts = [\n",
        "    \"I love art\",\n",
        "    \"I love coding\",\n",
        "    \"Art is beautiful\"\n",
        "]"
      ],
      "metadata": {
        "id": "CVsj6VCs8_K9"
      },
      "execution_count": 3,
      "outputs": []
    },
    {
      "cell_type": "code",
      "source": [
        "cv = CountVectorizer()\n",
        "x = cv.fit_transform(texts)"
      ],
      "metadata": {
        "id": "hzGW4dtP9DDY"
      },
      "execution_count": 4,
      "outputs": []
    },
    {
      "cell_type": "code",
      "source": [
        "cv.get_feature_names_out()"
      ],
      "metadata": {
        "colab": {
          "base_uri": "https://localhost:8080/"
        },
        "id": "ZPySq7X_9DEY",
        "outputId": "51a13074-e0c9-43c1-b741-137a39fa1a37"
      },
      "execution_count": 5,
      "outputs": [
        {
          "output_type": "execute_result",
          "data": {
            "text/plain": [
              "array(['art', 'beautiful', 'coding', 'is', 'love'], dtype=object)"
            ]
          },
          "metadata": {},
          "execution_count": 5
        }
      ]
    },
    {
      "cell_type": "code",
      "source": [
        "x.toarray()"
      ],
      "metadata": {
        "colab": {
          "base_uri": "https://localhost:8080/"
        },
        "id": "Wsci9Bc59ZUR",
        "outputId": "e6e5342e-b861-44be-aabb-595c36040b0e"
      },
      "execution_count": 6,
      "outputs": [
        {
          "output_type": "execute_result",
          "data": {
            "text/plain": [
              "array([[1, 0, 0, 0, 1],\n",
              "       [0, 0, 1, 0, 1],\n",
              "       [1, 1, 0, 1, 0]])"
            ]
          },
          "metadata": {},
          "execution_count": 6
        }
      ]
    }
  ]
}