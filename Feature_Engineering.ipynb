{
  "nbformat": 4,
  "nbformat_minor": 0,
  "metadata": {
    "colab": {
      "provenance": [],
      "authorship_tag": "ABX9TyOvYGfQ3peHghczfvMoulUy",
      "include_colab_link": true
    },
    "kernelspec": {
      "name": "python3",
      "display_name": "Python 3"
    },
    "language_info": {
      "name": "python"
    }
  },
  "cells": [
    {
      "cell_type": "markdown",
      "metadata": {
        "id": "view-in-github",
        "colab_type": "text"
      },
      "source": [
        "<a href=\"https://colab.research.google.com/github/samiha-mahin/Data-Analysis/blob/main/Feature_Engineering.ipynb\" target=\"_parent\"><img src=\"https://colab.research.google.com/assets/colab-badge.svg\" alt=\"Open In Colab\"/></a>"
      ]
    },
    {
      "cell_type": "markdown",
      "source": [
        "# **Feature Scaling**"
      ],
      "metadata": {
        "id": "i_XPKzCsud-M"
      }
    },
    {
      "cell_type": "markdown",
      "source": [
        "Feature scaling means  making all numerical features (columns) use the same scale.\n",
        "\n",
        "Some features may have big values (e.g., salary = 50,000) and some small (e.g., age = 25).\n",
        "If you don’t scale them, models may give more importance to bigger numbers,\n",
        "even when they shouldn’t.\n",
        "\n",
        "| Method               | What it does                                      |\n",
        "| -------------------- | ------------------------------------------------- |\n",
        "| **Min-Max Scaling**  | Puts values between 0 and 1                       |\n",
        "| **Standard Scaling** | Makes data have mean 0, std 1 (like a bell curve) |\n",
        "\n",
        "\n",
        "Example:\n",
        "\n",
        "| Age | Salary |\n",
        "| --- | ------ |\n",
        "| 25  | 50,000 |\n",
        "| 35  | 80,000 |\n",
        "\n",
        "After Min-Max Scaling:\n",
        "\n",
        "| Age | Salary |\n",
        "| --- | ------ |\n",
        "| 0.0 | 0.0    |\n",
        "| 1.0 | 1.0    |\n",
        "\n",
        "Now both are on the same scale.\n"
      ],
      "metadata": {
        "id": "2OtUOe4Fu_ml"
      }
    },
    {
      "cell_type": "markdown",
      "source": [
        "# **1.Standardization**"
      ],
      "metadata": {
        "id": "VEtD1aTBuoej"
      }
    },
    {
      "cell_type": "markdown",
      "source": [
        "**Standardization means:**\n",
        "\n",
        "Rescaling data so that it has:\n",
        "\n",
        "Mean = 0\n",
        "\n",
        "Standard Deviation = 1\n",
        "\n",
        "**Why do we use it?**\n",
        "\n",
        "To make all features (columns) have the same scale, especially useful when:\n",
        "\n",
        "Data has different units (e.g., age vs income)\n",
        "\n",
        "You're using ML models that are sensitive to scale (like SVM, KNN, logistic regression)\n",
        "\n"
      ],
      "metadata": {
        "id": "XzV6mn7GwDxR"
      }
    }
  ]
}