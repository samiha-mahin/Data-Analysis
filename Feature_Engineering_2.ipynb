{
  "nbformat": 4,
  "nbformat_minor": 0,
  "metadata": {
    "colab": {
      "provenance": [],
      "authorship_tag": "ABX9TyPjI6yKjF1aGa7mC2HE8L8B",
      "include_colab_link": true
    },
    "kernelspec": {
      "name": "python3",
      "display_name": "Python 3"
    },
    "language_info": {
      "name": "python"
    }
  },
  "cells": [
    {
      "cell_type": "markdown",
      "metadata": {
        "id": "view-in-github",
        "colab_type": "text"
      },
      "source": [
        "<a href=\"https://colab.research.google.com/github/samiha-mahin/Data-Analysis/blob/main/Feature_Engineering_2.ipynb\" target=\"_parent\"><img src=\"https://colab.research.google.com/assets/colab-badge.svg\" alt=\"Open In Colab\"/></a>"
      ]
    },
    {
      "cell_type": "markdown",
      "source": [
        "# **Ordinal Encoding**"
      ],
      "metadata": {
        "id": "fqL2cEUPJqql"
      }
    },
    {
      "cell_type": "markdown",
      "source": [
        "\n",
        "### ✅ What is Ordinal Encoding?\n",
        "\n",
        "**Ordinal Encoding** is used to **convert categorical data** (that has an order) into **numbers**.\n",
        "\n",
        "---\n",
        "\n",
        "### 🔤 Example:\n",
        "\n",
        "Suppose you have a feature called **\"Size\"** with values:\n",
        "\n",
        "```\n",
        "['Small', 'Medium', 'Large']\n",
        "```\n",
        "\n",
        "These have a **meaningful order**, right?\n",
        "\n",
        "With **Ordinal Encoding**, we convert them to:\n",
        "\n",
        "```\n",
        "Small  →  0  \n",
        "Medium →  1  \n",
        "Large  →  2\n",
        "```\n",
        "\n",
        "Now the model can understand the **order**:\n",
        "`Small < Medium < Large`\n",
        "\n",
        "---\n",
        "\n",
        "### 🟡 When to use?\n",
        "\n",
        "Use **Ordinal Encoding** when:\n",
        "\n",
        "* The categories have a **natural order**\n",
        "* But not necessarily equal spacing (e.g., size, level, rating)\n",
        "\n",
        "\n"
      ],
      "metadata": {
        "id": "ezR7T6exJ8oi"
      }
    },
    {
      "cell_type": "code",
      "source": [],
      "metadata": {
        "id": "V5js77klKKG3"
      },
      "execution_count": null,
      "outputs": []
    }
  ]
}