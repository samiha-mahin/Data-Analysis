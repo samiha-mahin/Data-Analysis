{
  "nbformat": 4,
  "nbformat_minor": 0,
  "metadata": {
    "colab": {
      "provenance": [],
      "authorship_tag": "ABX9TyNBHF9tSLlODmLRtkWg8fVS",
      "include_colab_link": true
    },
    "kernelspec": {
      "name": "python3",
      "display_name": "Python 3"
    },
    "language_info": {
      "name": "python"
    }
  },
  "cells": [
    {
      "cell_type": "markdown",
      "metadata": {
        "id": "view-in-github",
        "colab_type": "text"
      },
      "source": [
        "<a href=\"https://colab.research.google.com/github/samiha-mahin/Data-Analysis/blob/main/FE_Power_Transformers.ipynb\" target=\"_parent\"><img src=\"https://colab.research.google.com/assets/colab-badge.svg\" alt=\"Open In Colab\"/></a>"
      ]
    },
    {
      "cell_type": "markdown",
      "source": [
        "\n",
        "\n",
        "### 🌟 1. **Power Transformer**\n",
        "\n",
        "It’s a general term. It automatically applies either **Box-Cox** or **Yeo-Johnson** transform to **make data more normal**.\n",
        "Used in: `sklearn.preprocessing.PowerTransformer()`\n",
        "\n",
        "```python\n",
        "from sklearn.preprocessing import PowerTransformer\n",
        "pt = PowerTransformer(method='yeo-johnson')  # or method='box-cox'\n",
        "```\n",
        "\n",
        "---\n",
        "\n",
        "### ⚡ 2. **Box-Cox Transform**\n",
        "\n",
        "* **Applies only to positive data**\n",
        "* Tries to make **skewed data more normal**\n",
        "* It applies a power function based on a parameter λ (lambda)\n",
        "\n",
        "📌 **Example**:\n",
        "\n",
        "```python\n",
        "Original data: [1, 2, 3, 4, 5]\n",
        "Box-Cox:       [0.0, 0.68, 1.10, 1.39, 1.61]  # transformed to look more normal\n",
        "```\n",
        "\n",
        "🧠 **Note**: Data **must be strictly positive** (no zero or negative values)\n",
        "\n",
        "---\n",
        "\n",
        "### ⚡ 3. **Yeo-Johnson Transform**\n",
        "\n",
        "* **Works with both positive and negative values**\n",
        "* It’s a generalization of Box-Cox\n",
        "* Also tries to make data more normal using a formula and λ\n",
        "\n",
        "📌 **Example**:\n",
        "\n",
        "```python\n",
        "Original data: [-2, -1, 0, 1, 2, 3]\n",
        "Yeo-Johnson:   [-1.33, -0.76, 0.0, 0.67, 1.23, 1.71]\n",
        "```\n",
        "\n",
        "---\n",
        "\n",
        "### ✅ Summary Table\n",
        "\n",
        "| Transform            | Works with Negative Values?       | Makes Data Normal? | Handles Skewed Data? |\n",
        "| -------------------- | --------------------------------- | ------------------ | -------------------- |\n",
        "| **PowerTransformer** | Yes (Yeo-Johnson) or No (Box-Cox) | Yes                | Yes                  |\n",
        "| **Box-Cox**          | ❌ Only positive                   | ✅ Yes              | ✅ Yes                |\n",
        "| **Yeo-Johnson**      | ✅ Yes                             | ✅ Yes              | ✅ Yes                |\n",
        "\n"
      ],
      "metadata": {
        "id": "ItMuQB_cRQfh"
      }
    },
    {
      "cell_type": "code",
      "source": [],
      "metadata": {
        "id": "umQhzaEFRW03"
      },
      "execution_count": null,
      "outputs": []
    }
  ]
}