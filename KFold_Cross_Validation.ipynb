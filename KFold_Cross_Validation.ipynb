{
  "nbformat": 4,
  "nbformat_minor": 0,
  "metadata": {
    "colab": {
      "provenance": [],
      "authorship_tag": "ABX9TyNWFocFZ0hPD+42WTHuQOl3",
      "include_colab_link": true
    },
    "kernelspec": {
      "name": "python3",
      "display_name": "Python 3"
    },
    "language_info": {
      "name": "python"
    }
  },
  "cells": [
    {
      "cell_type": "markdown",
      "metadata": {
        "id": "view-in-github",
        "colab_type": "text"
      },
      "source": [
        "<a href=\"https://colab.research.google.com/github/samiha-mahin/Data-Analysis/blob/main/KFold_Cross_Validation.ipynb\" target=\"_parent\"><img src=\"https://colab.research.google.com/assets/colab-badge.svg\" alt=\"Open In Colab\"/></a>"
      ]
    },
    {
      "cell_type": "markdown",
      "source": [
        "\n",
        "\n",
        "### 🌟 What is K-Fold Cross Validation?\n",
        "\n",
        "K-Fold Cross Validation is a technique used to **test how well a machine learning model will perform on unseen data**.\n",
        "\n",
        "Instead of training your model once, you:\n",
        "\n",
        "1. Split your dataset into **K equal parts** (called \"folds\").\n",
        "2. Train your model **K times**, each time using a different fold as the **test set**, and the rest as the **training set**.\n",
        "3. **Average the results** from each run to get a more **reliable score**.\n",
        "\n",
        "---\n",
        "\n",
        "### 🎨 Imagine This:\n",
        "\n",
        "You have **10 paintings** (data points) and want to check how good an art-judging AI is.\n",
        "\n",
        "Let’s use **5-Fold Cross Validation**:\n",
        "\n",
        "#### Step-by-step:\n",
        "\n",
        "1. **Split the 10 paintings into 5 equal parts (folds)**\n",
        "\n",
        "   * Fold 1: Painting 1, 2\n",
        "   * Fold 2: Painting 3, 4\n",
        "   * Fold 3: Painting 5, 6\n",
        "   * Fold 4: Painting 7, 8\n",
        "   * Fold 5: Painting 9, 10\n",
        "\n",
        "2. **Run the model 5 times:**\n",
        "\n",
        "   * **1st run**: Train on Folds 2–5, Test on Fold 1\n",
        "   * **2nd run**: Train on Folds 1,3,4,5, Test on Fold 2\n",
        "   * **3rd run**: Train on Folds 1,2,4,5, Test on Fold 3\n",
        "   * **4th run**: Train on Folds 1,2,3,5, Test on Fold 4\n",
        "   * **5th run**: Train on Folds 1,2,3,4, Test on Fold 5\n",
        "\n",
        "3. **Record the accuracy** of each run.\n",
        "\n",
        "4. **Average the 5 accuracy scores** to get the final performance.\n",
        "\n",
        "---\n",
        "\n",
        "### ✅ Why Use It?\n",
        "\n",
        "* Prevents **overfitting** (too good on training but bad on new data).\n",
        "* Gives a **better estimate** of how your model will perform in real life.\n",
        "\n",
        "---\n",
        "\n"
      ],
      "metadata": {
        "id": "N2lNZ-onG675"
      }
    },
    {
      "cell_type": "code",
      "source": [
        "from sklearn.model_selection import KFold\n",
        "from sklearn.linear_model import LogisticRegression\n",
        "from sklearn.datasets import load_iris\n",
        "from sklearn.metrics import accuracy_score\n",
        "import numpy as np"
      ],
      "metadata": {
        "id": "JjoOQrA7HEf6"
      },
      "execution_count": 1,
      "outputs": []
    },
    {
      "cell_type": "code",
      "source": [
        "data = load_iris()"
      ],
      "metadata": {
        "id": "lWnQxW4NI5et"
      },
      "execution_count": 3,
      "outputs": []
    },
    {
      "cell_type": "code",
      "source": [
        "data.feature_names"
      ],
      "metadata": {
        "colab": {
          "base_uri": "https://localhost:8080/"
        },
        "id": "026-VOz3JEVq",
        "outputId": "7b0492e1-d4ba-4fbe-98df-1bae4dfd788b"
      },
      "execution_count": 4,
      "outputs": [
        {
          "output_type": "execute_result",
          "data": {
            "text/plain": [
              "['sepal length (cm)',\n",
              " 'sepal width (cm)',\n",
              " 'petal length (cm)',\n",
              " 'petal width (cm)']"
            ]
          },
          "metadata": {},
          "execution_count": 4
        }
      ]
    },
    {
      "cell_type": "code",
      "source": [
        "X = data.data\n",
        "y = data.target"
      ],
      "metadata": {
        "id": "tQWvdF6-JWcO"
      },
      "execution_count": 5,
      "outputs": []
    },
    {
      "cell_type": "code",
      "source": [
        "# Set up 5-fold\n",
        "kf = KFold(n_splits=5)"
      ],
      "metadata": {
        "id": "aMt7s_DOJgDW"
      },
      "execution_count": 6,
      "outputs": []
    },
    {
      "cell_type": "code",
      "source": [
        "accuracies = [\n",
        "    accuracy_score(\n",
        "        y[test_index],\n",
        "        LogisticRegression(max_iter=200).fit(X[train_index], y[train_index]).predict(X[test_index])\n",
        "    )\n",
        "    for train_index, test_index in kf.split(X)\n",
        "]\n",
        "\n",
        "print(\"Average accuracy:\", np.mean(accuracies))"
      ],
      "metadata": {
        "colab": {
          "base_uri": "https://localhost:8080/"
        },
        "id": "80Q92HYBJxVM",
        "outputId": "81329dbf-3e4a-41f8-bfcc-d254b4816f8a"
      },
      "execution_count": 7,
      "outputs": [
        {
          "output_type": "stream",
          "name": "stdout",
          "text": [
            "Average accuracy: 0.9266666666666665\n"
          ]
        }
      ]
    }
  ]
}