{
  "nbformat": 4,
  "nbformat_minor": 0,
  "metadata": {
    "colab": {
      "provenance": [],
      "authorship_tag": "ABX9TyNMCFUL5xxnlalqAUL/OjK1",
      "include_colab_link": true
    },
    "kernelspec": {
      "name": "python3",
      "display_name": "Python 3"
    },
    "language_info": {
      "name": "python"
    }
  },
  "cells": [
    {
      "cell_type": "markdown",
      "metadata": {
        "id": "view-in-github",
        "colab_type": "text"
      },
      "source": [
        "<a href=\"https://colab.research.google.com/github/samiha-mahin/Data-Analysis/blob/main/KNN_Imputer.ipynb\" target=\"_parent\"><img src=\"https://colab.research.google.com/assets/colab-badge.svg\" alt=\"Open In Colab\"/></a>"
      ]
    },
    {
      "cell_type": "markdown",
      "source": [
        "# **KNN Imputer**\n",
        "\n",
        "---\n",
        "\n",
        "### 🧠 What is KNN Imputer?\n",
        "\n",
        "**KNN Imputer** fills in missing values (like `NaN`s) using the **K-Nearest Neighbors** approach.\n",
        "\n",
        "Instead of guessing or averaging, it:\n",
        "\n",
        "* Looks at the **K most similar rows (neighbors)** in the dataset.\n",
        "* Then fills in the missing value based on the **average of those neighbors' values**.\n",
        "\n",
        "---\n",
        "\n",
        "### 📦 When to use?\n",
        "\n",
        "When your data has **missing values**, and you want to **impute** them based on **other similar data points**, not just column-wise mean/median.\n",
        "\n",
        "---\n",
        "\n",
        "### 🪄 Simple Example:\n",
        "\n",
        "Imagine this small dataset:\n",
        "\n",
        "| Height (cm) | Weight (kg) | Age (years) |\n",
        "| ----------- | ----------- | ----------- |\n",
        "| 160         | 55          | 25          |\n",
        "| 165         | 60          | 30          |\n",
        "| 170         | **NaN**     | 28          |\n",
        "| 175         | 75          | 35          |\n",
        "\n",
        "We want to fill the **missing weight** for the third person (`NaN` in row 3).\n",
        "\n",
        "---\n",
        "\n",
        "### 🔍 Steps of KNN Imputer:\n",
        "\n",
        "1. **Choose `k`** (number of neighbors). Let’s say `k = 2`.\n",
        "2. **Find the 2 nearest rows** to the third row (based on Height and Age).\n",
        "\n",
        "   * Compare row 3 with others using Euclidean distance.\n",
        "   * Most similar rows to row 3 might be row 1 and row 2.\n",
        "3. **Take average weight** of row 1 and row 2:\n",
        "\n",
        "   * (55 + 60) / 2 = **57.5**\n",
        "4. **Impute `NaN`** with **57.5**\n",
        "\n",
        "---\n",
        "\n",
        "### ✅ After KNN Imputer:\n",
        "\n",
        "| Height (cm) | Weight (kg) | Age (years) |\n",
        "| ----------- | ----------- | ----------- |\n",
        "| 160         | 55          | 25          |\n",
        "| 165         | 60          | 30          |\n",
        "| 170         | **57.5**    | 28          |\n",
        "| 175         | 75          | 35          |\n",
        "\n",
        "---\n",
        "\n",
        "### 🔧 How to use in code (Python):\n",
        "\n",
        "```python\n",
        "from sklearn.impute import KNNImputer\n",
        "import pandas as pd\n",
        "import numpy as np\n",
        "\n",
        "# Example dataset\n",
        "data = pd.DataFrame({\n",
        "    'Height': [160, 165, 170, 175],\n",
        "    'Weight': [55, 60, np.nan, 75],\n",
        "    'Age': [25, 30, 28, 35]\n",
        "})\n",
        "\n",
        "# Create KNN Imputer with k=2\n",
        "imputer = KNNImputer(n_neighbors=2)\n",
        "\n",
        "# Impute the data\n",
        "imputed_data = imputer.fit_transform(data)\n",
        "\n",
        "# Convert back to DataFrame\n",
        "imputed_df = pd.DataFrame(imputed_data, columns=data.columns)\n",
        "print(imputed_df)\n",
        "```\n",
        "\n",
        "---\n",
        "\n"
      ],
      "metadata": {
        "id": "VmAkgGQBqg1r"
      }
    },
    {
      "cell_type": "code",
      "execution_count": null,
      "metadata": {
        "id": "o5oPLXyCpafn"
      },
      "outputs": [],
      "source": []
    }
  ]
}